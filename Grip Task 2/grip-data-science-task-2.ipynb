{
 "cells": [
  {
   "cell_type": "markdown",
   "id": "435419d2",
   "metadata": {
    "papermill": {
     "duration": 0.019907,
     "end_time": "2021-08-17T07:04:52.065277",
     "exception": false,
     "start_time": "2021-08-17T07:04:52.045370",
     "status": "completed"
    },
    "tags": []
   },
   "source": [
    "# The Sparks Foundation-GRIP-Data Science and Business Analytics-August'2021\n",
    "### Task 2: Prediction using Unsupervised ML\n",
    "### Author: Saifur Rahman Shatil"
   ]
  },
  {
   "cell_type": "markdown",
   "id": "c25a6c93",
   "metadata": {
    "papermill": {
     "duration": 0.017675,
     "end_time": "2021-08-17T07:04:52.101878",
     "exception": false,
     "start_time": "2021-08-17T07:04:52.084203",
     "status": "completed"
    },
    "tags": []
   },
   "source": [
    "#### Importing Libraries"
   ]
  },
  {
   "cell_type": "code",
   "execution_count": 1,
   "id": "37612c54",
   "metadata": {
    "execution": {
     "iopub.execute_input": "2021-08-17T07:04:52.142151Z",
     "iopub.status.busy": "2021-08-17T07:04:52.140943Z",
     "iopub.status.idle": "2021-08-17T07:04:53.554520Z",
     "shell.execute_reply": "2021-08-17T07:04:53.555631Z",
     "shell.execute_reply.started": "2021-08-17T07:03:34.599632Z"
    },
    "papermill": {
     "duration": 1.436065,
     "end_time": "2021-08-17T07:04:53.556128",
     "exception": false,
     "start_time": "2021-08-17T07:04:52.120063",
     "status": "completed"
    },
    "tags": []
   },
   "outputs": [],
   "source": [
    "import numpy as np\n",
    "import pandas as pd\n",
    "import seaborn as sns\n",
    "import matplotlib.pyplot as plt\n",
    "from sklearn import datasets\n",
    "%matplotlib inline"
   ]
  },
  {
   "cell_type": "markdown",
   "id": "e9fc28d3",
   "metadata": {
    "papermill": {
     "duration": 0.017671,
     "end_time": "2021-08-17T07:04:53.593009",
     "exception": false,
     "start_time": "2021-08-17T07:04:53.575338",
     "status": "completed"
    },
    "tags": []
   },
   "source": [
    "#### Importing Dataset"
   ]
  },
  {
   "cell_type": "code",
   "execution_count": 2,
   "id": "55cecbcb",
   "metadata": {
    "execution": {
     "iopub.execute_input": "2021-08-17T07:04:53.634619Z",
     "iopub.status.busy": "2021-08-17T07:04:53.633940Z",
     "iopub.status.idle": "2021-08-17T07:04:53.679933Z",
     "shell.execute_reply": "2021-08-17T07:04:53.680893Z",
     "shell.execute_reply.started": "2021-08-17T07:03:35.103659Z"
    },
    "papermill": {
     "duration": 0.069721,
     "end_time": "2021-08-17T07:04:53.681080",
     "exception": false,
     "start_time": "2021-08-17T07:04:53.611359",
     "status": "completed"
    },
    "tags": []
   },
   "outputs": [
    {
     "data": {
      "text/html": [
       "<div>\n",
       "<style scoped>\n",
       "    .dataframe tbody tr th:only-of-type {\n",
       "        vertical-align: middle;\n",
       "    }\n",
       "\n",
       "    .dataframe tbody tr th {\n",
       "        vertical-align: top;\n",
       "    }\n",
       "\n",
       "    .dataframe thead th {\n",
       "        text-align: right;\n",
       "    }\n",
       "</style>\n",
       "<table border=\"1\" class=\"dataframe\">\n",
       "  <thead>\n",
       "    <tr style=\"text-align: right;\">\n",
       "      <th></th>\n",
       "      <th>Id</th>\n",
       "      <th>SepalLengthCm</th>\n",
       "      <th>SepalWidthCm</th>\n",
       "      <th>PetalLengthCm</th>\n",
       "      <th>PetalWidthCm</th>\n",
       "      <th>Species</th>\n",
       "    </tr>\n",
       "  </thead>\n",
       "  <tbody>\n",
       "    <tr>\n",
       "      <th>0</th>\n",
       "      <td>1</td>\n",
       "      <td>5.1</td>\n",
       "      <td>3.5</td>\n",
       "      <td>1.4</td>\n",
       "      <td>0.2</td>\n",
       "      <td>Iris-setosa</td>\n",
       "    </tr>\n",
       "    <tr>\n",
       "      <th>1</th>\n",
       "      <td>2</td>\n",
       "      <td>4.9</td>\n",
       "      <td>3.0</td>\n",
       "      <td>1.4</td>\n",
       "      <td>0.2</td>\n",
       "      <td>Iris-setosa</td>\n",
       "    </tr>\n",
       "    <tr>\n",
       "      <th>2</th>\n",
       "      <td>3</td>\n",
       "      <td>4.7</td>\n",
       "      <td>3.2</td>\n",
       "      <td>1.3</td>\n",
       "      <td>0.2</td>\n",
       "      <td>Iris-setosa</td>\n",
       "    </tr>\n",
       "    <tr>\n",
       "      <th>3</th>\n",
       "      <td>4</td>\n",
       "      <td>4.6</td>\n",
       "      <td>3.1</td>\n",
       "      <td>1.5</td>\n",
       "      <td>0.2</td>\n",
       "      <td>Iris-setosa</td>\n",
       "    </tr>\n",
       "    <tr>\n",
       "      <th>4</th>\n",
       "      <td>5</td>\n",
       "      <td>5.0</td>\n",
       "      <td>3.6</td>\n",
       "      <td>1.4</td>\n",
       "      <td>0.2</td>\n",
       "      <td>Iris-setosa</td>\n",
       "    </tr>\n",
       "  </tbody>\n",
       "</table>\n",
       "</div>"
      ],
      "text/plain": [
       "   Id  SepalLengthCm  SepalWidthCm  PetalLengthCm  PetalWidthCm      Species\n",
       "0   1            5.1           3.5            1.4           0.2  Iris-setosa\n",
       "1   2            4.9           3.0            1.4           0.2  Iris-setosa\n",
       "2   3            4.7           3.2            1.3           0.2  Iris-setosa\n",
       "3   4            4.6           3.1            1.5           0.2  Iris-setosa\n",
       "4   5            5.0           3.6            1.4           0.2  Iris-setosa"
      ]
     },
     "execution_count": 2,
     "metadata": {},
     "output_type": "execute_result"
    }
   ],
   "source": [
    "path= \"../input/iris/Iris.csv\"\n",
    "data= pd.read_csv(path)\n",
    "data.head()"
   ]
  },
  {
   "cell_type": "code",
   "execution_count": 3,
   "id": "9c94a1d9",
   "metadata": {
    "execution": {
     "iopub.execute_input": "2021-08-17T07:04:53.729619Z",
     "iopub.status.busy": "2021-08-17T07:04:53.728921Z",
     "iopub.status.idle": "2021-08-17T07:04:53.733109Z",
     "shell.execute_reply": "2021-08-17T07:04:53.732603Z",
     "shell.execute_reply.started": "2021-08-17T07:03:35.135470Z"
    },
    "papermill": {
     "duration": 0.032514,
     "end_time": "2021-08-17T07:04:53.733253",
     "exception": false,
     "start_time": "2021-08-17T07:04:53.700739",
     "status": "completed"
    },
    "tags": []
   },
   "outputs": [
    {
     "name": "stdout",
     "output_type": "stream",
     "text": [
      "Total Species:  3\n",
      "['Iris-setosa' 'Iris-versicolor' 'Iris-virginica']\n"
     ]
    }
   ],
   "source": [
    "print('Total Species: ',data.Species.nunique())\n",
    "print(data.Species.unique())"
   ]
  },
  {
   "cell_type": "markdown",
   "id": "a8a24a51",
   "metadata": {
    "papermill": {
     "duration": 0.018573,
     "end_time": "2021-08-17T07:04:53.770741",
     "exception": false,
     "start_time": "2021-08-17T07:04:53.752168",
     "status": "completed"
    },
    "tags": []
   },
   "source": [
    "#### Encoding Species Label"
   ]
  },
  {
   "cell_type": "code",
   "execution_count": 4,
   "id": "ae324c26",
   "metadata": {
    "execution": {
     "iopub.execute_input": "2021-08-17T07:04:53.813371Z",
     "iopub.status.busy": "2021-08-17T07:04:53.812318Z",
     "iopub.status.idle": "2021-08-17T07:04:53.815465Z",
     "shell.execute_reply": "2021-08-17T07:04:53.814860Z",
     "shell.execute_reply.started": "2021-08-17T07:03:35.145114Z"
    },
    "papermill": {
     "duration": 0.0262,
     "end_time": "2021-08-17T07:04:53.815623",
     "exception": false,
     "start_time": "2021-08-17T07:04:53.789423",
     "status": "completed"
    },
    "tags": []
   },
   "outputs": [],
   "source": [
    "y=data.Species"
   ]
  },
  {
   "cell_type": "code",
   "execution_count": 5,
   "id": "2b656e0e",
   "metadata": {
    "execution": {
     "iopub.execute_input": "2021-08-17T07:04:53.859252Z",
     "iopub.status.busy": "2021-08-17T07:04:53.858286Z",
     "iopub.status.idle": "2021-08-17T07:04:53.861971Z",
     "shell.execute_reply": "2021-08-17T07:04:53.861092Z",
     "shell.execute_reply.started": "2021-08-17T07:03:35.156814Z"
    },
    "papermill": {
     "duration": 0.027519,
     "end_time": "2021-08-17T07:04:53.862117",
     "exception": false,
     "start_time": "2021-08-17T07:04:53.834598",
     "status": "completed"
    },
    "tags": []
   },
   "outputs": [],
   "source": [
    "from sklearn.preprocessing import LabelEncoder\n",
    "encoder=LabelEncoder()\n",
    "y_data= encoder.fit_transform(y)"
   ]
  },
  {
   "cell_type": "code",
   "execution_count": 6,
   "id": "7aca1807",
   "metadata": {
    "execution": {
     "iopub.execute_input": "2021-08-17T07:04:53.905944Z",
     "iopub.status.busy": "2021-08-17T07:04:53.905278Z",
     "iopub.status.idle": "2021-08-17T07:04:53.907984Z",
     "shell.execute_reply": "2021-08-17T07:04:53.908420Z",
     "shell.execute_reply.started": "2021-08-17T07:03:35.171943Z"
    },
    "papermill": {
     "duration": 0.027616,
     "end_time": "2021-08-17T07:04:53.908610",
     "exception": false,
     "start_time": "2021-08-17T07:04:53.880994",
     "status": "completed"
    },
    "tags": []
   },
   "outputs": [
    {
     "data": {
      "text/plain": [
       "array([0, 0, 0, 0, 0, 0, 0, 0, 0, 0, 0, 0, 0, 0, 0, 0, 0, 0, 0, 0, 0, 0,\n",
       "       0, 0, 0, 0, 0, 0, 0, 0, 0, 0, 0, 0, 0, 0, 0, 0, 0, 0, 0, 0, 0, 0,\n",
       "       0, 0, 0, 0, 0, 0, 1, 1, 1, 1, 1, 1, 1, 1, 1, 1, 1, 1, 1, 1, 1, 1,\n",
       "       1, 1, 1, 1, 1, 1, 1, 1, 1, 1, 1, 1, 1, 1, 1, 1, 1, 1, 1, 1, 1, 1,\n",
       "       1, 1, 1, 1, 1, 1, 1, 1, 1, 1, 1, 1, 2, 2, 2, 2, 2, 2, 2, 2, 2, 2,\n",
       "       2, 2, 2, 2, 2, 2, 2, 2, 2, 2, 2, 2, 2, 2, 2, 2, 2, 2, 2, 2, 2, 2,\n",
       "       2, 2, 2, 2, 2, 2, 2, 2, 2, 2, 2, 2, 2, 2, 2, 2, 2, 2])"
      ]
     },
     "execution_count": 6,
     "metadata": {},
     "output_type": "execute_result"
    }
   ],
   "source": [
    "y_data"
   ]
  },
  {
   "cell_type": "code",
   "execution_count": 7,
   "id": "0e1f23ef",
   "metadata": {
    "execution": {
     "iopub.execute_input": "2021-08-17T07:04:53.951216Z",
     "iopub.status.busy": "2021-08-17T07:04:53.950455Z",
     "iopub.status.idle": "2021-08-17T07:04:53.955470Z",
     "shell.execute_reply": "2021-08-17T07:04:53.955960Z",
     "shell.execute_reply.started": "2021-08-17T07:03:35.188092Z"
    },
    "papermill": {
     "duration": 0.027591,
     "end_time": "2021-08-17T07:04:53.956138",
     "exception": false,
     "start_time": "2021-08-17T07:04:53.928547",
     "status": "completed"
    },
    "tags": []
   },
   "outputs": [],
   "source": [
    "# Drop Id and Species as they won't be necessary in clustering\n",
    "data.drop(['Id','Species'],axis=1,inplace=True)"
   ]
  },
  {
   "cell_type": "code",
   "execution_count": 8,
   "id": "82420c01",
   "metadata": {
    "execution": {
     "iopub.execute_input": "2021-08-17T07:04:53.998015Z",
     "iopub.status.busy": "2021-08-17T07:04:53.997348Z",
     "iopub.status.idle": "2021-08-17T07:04:54.011624Z",
     "shell.execute_reply": "2021-08-17T07:04:54.010948Z",
     "shell.execute_reply.started": "2021-08-17T07:03:35.203795Z"
    },
    "papermill": {
     "duration": 0.036226,
     "end_time": "2021-08-17T07:04:54.011773",
     "exception": false,
     "start_time": "2021-08-17T07:04:53.975547",
     "status": "completed"
    },
    "tags": []
   },
   "outputs": [
    {
     "data": {
      "text/html": [
       "<div>\n",
       "<style scoped>\n",
       "    .dataframe tbody tr th:only-of-type {\n",
       "        vertical-align: middle;\n",
       "    }\n",
       "\n",
       "    .dataframe tbody tr th {\n",
       "        vertical-align: top;\n",
       "    }\n",
       "\n",
       "    .dataframe thead th {\n",
       "        text-align: right;\n",
       "    }\n",
       "</style>\n",
       "<table border=\"1\" class=\"dataframe\">\n",
       "  <thead>\n",
       "    <tr style=\"text-align: right;\">\n",
       "      <th></th>\n",
       "      <th>SepalLengthCm</th>\n",
       "      <th>SepalWidthCm</th>\n",
       "      <th>PetalLengthCm</th>\n",
       "      <th>PetalWidthCm</th>\n",
       "    </tr>\n",
       "  </thead>\n",
       "  <tbody>\n",
       "    <tr>\n",
       "      <th>0</th>\n",
       "      <td>5.1</td>\n",
       "      <td>3.5</td>\n",
       "      <td>1.4</td>\n",
       "      <td>0.2</td>\n",
       "    </tr>\n",
       "    <tr>\n",
       "      <th>1</th>\n",
       "      <td>4.9</td>\n",
       "      <td>3.0</td>\n",
       "      <td>1.4</td>\n",
       "      <td>0.2</td>\n",
       "    </tr>\n",
       "    <tr>\n",
       "      <th>2</th>\n",
       "      <td>4.7</td>\n",
       "      <td>3.2</td>\n",
       "      <td>1.3</td>\n",
       "      <td>0.2</td>\n",
       "    </tr>\n",
       "    <tr>\n",
       "      <th>3</th>\n",
       "      <td>4.6</td>\n",
       "      <td>3.1</td>\n",
       "      <td>1.5</td>\n",
       "      <td>0.2</td>\n",
       "    </tr>\n",
       "    <tr>\n",
       "      <th>4</th>\n",
       "      <td>5.0</td>\n",
       "      <td>3.6</td>\n",
       "      <td>1.4</td>\n",
       "      <td>0.2</td>\n",
       "    </tr>\n",
       "  </tbody>\n",
       "</table>\n",
       "</div>"
      ],
      "text/plain": [
       "   SepalLengthCm  SepalWidthCm  PetalLengthCm  PetalWidthCm\n",
       "0            5.1           3.5            1.4           0.2\n",
       "1            4.9           3.0            1.4           0.2\n",
       "2            4.7           3.2            1.3           0.2\n",
       "3            4.6           3.1            1.5           0.2\n",
       "4            5.0           3.6            1.4           0.2"
      ]
     },
     "execution_count": 8,
     "metadata": {},
     "output_type": "execute_result"
    }
   ],
   "source": [
    "data.head()"
   ]
  },
  {
   "cell_type": "code",
   "execution_count": 9,
   "id": "c6b53645",
   "metadata": {
    "execution": {
     "iopub.execute_input": "2021-08-17T07:04:54.059599Z",
     "iopub.status.busy": "2021-08-17T07:04:54.058826Z",
     "iopub.status.idle": "2021-08-17T07:04:54.061729Z",
     "shell.execute_reply": "2021-08-17T07:04:54.062217Z",
     "shell.execute_reply.started": "2021-08-17T07:03:35.227389Z"
    },
    "papermill": {
     "duration": 0.02997,
     "end_time": "2021-08-17T07:04:54.062391",
     "exception": false,
     "start_time": "2021-08-17T07:04:54.032421",
     "status": "completed"
    },
    "tags": []
   },
   "outputs": [
    {
     "data": {
      "text/plain": [
       "(150, 4)"
      ]
     },
     "execution_count": 9,
     "metadata": {},
     "output_type": "execute_result"
    }
   ],
   "source": [
    "data.shape"
   ]
  },
  {
   "cell_type": "code",
   "execution_count": 10,
   "id": "c776d610",
   "metadata": {
    "execution": {
     "iopub.execute_input": "2021-08-17T07:04:54.106549Z",
     "iopub.status.busy": "2021-08-17T07:04:54.105664Z",
     "iopub.status.idle": "2021-08-17T07:04:54.110800Z",
     "shell.execute_reply": "2021-08-17T07:04:54.111338Z",
     "shell.execute_reply.started": "2021-08-17T07:03:35.235884Z"
    },
    "papermill": {
     "duration": 0.028728,
     "end_time": "2021-08-17T07:04:54.111514",
     "exception": false,
     "start_time": "2021-08-17T07:04:54.082786",
     "status": "completed"
    },
    "tags": []
   },
   "outputs": [],
   "source": [
    "# selecting features for clustering\n",
    "x= data.iloc[:,[0,1,2,3]].values # for all rows select col values"
   ]
  },
  {
   "cell_type": "markdown",
   "id": "230475da",
   "metadata": {
    "papermill": {
     "duration": 0.019657,
     "end_time": "2021-08-17T07:04:54.151257",
     "exception": false,
     "start_time": "2021-08-17T07:04:54.131600",
     "status": "completed"
    },
    "tags": []
   },
   "source": [
    "#### Elbow method to find optimum number of clusters"
   ]
  },
  {
   "cell_type": "code",
   "execution_count": 11,
   "id": "63f66e2a",
   "metadata": {
    "execution": {
     "iopub.execute_input": "2021-08-17T07:04:54.199972Z",
     "iopub.status.busy": "2021-08-17T07:04:54.199279Z",
     "iopub.status.idle": "2021-08-17T07:04:55.140308Z",
     "shell.execute_reply": "2021-08-17T07:04:55.139463Z",
     "shell.execute_reply.started": "2021-08-17T07:03:35.249704Z"
    },
    "papermill": {
     "duration": 0.968075,
     "end_time": "2021-08-17T07:04:55.140485",
     "exception": false,
     "start_time": "2021-08-17T07:04:54.172410",
     "status": "completed"
    },
    "tags": []
   },
   "outputs": [],
   "source": [
    "from sklearn.cluster import KMeans\n",
    "wcss=[]\n",
    "for i in range(1,11):\n",
    "    kmeans= KMeans(n_clusters=i,init='k-means++',n_init=10,max_iter=300,random_state=0)\n",
    "    kmeans.fit(x)\n",
    "    wcss.append(kmeans.inertia_)\n"
   ]
  },
  {
   "cell_type": "markdown",
   "id": "7e45b3c6",
   "metadata": {
    "papermill": {
     "duration": 0.019707,
     "end_time": "2021-08-17T07:04:55.180224",
     "exception": false,
     "start_time": "2021-08-17T07:04:55.160517",
     "status": "completed"
    },
    "tags": []
   },
   "source": [
    "#### Ploting to show the result of elbow mdthod"
   ]
  },
  {
   "cell_type": "code",
   "execution_count": 12,
   "id": "5ff6f7fc",
   "metadata": {
    "execution": {
     "iopub.execute_input": "2021-08-17T07:04:55.246416Z",
     "iopub.status.busy": "2021-08-17T07:04:55.245329Z",
     "iopub.status.idle": "2021-08-17T07:04:55.413522Z",
     "shell.execute_reply": "2021-08-17T07:04:55.412862Z",
     "shell.execute_reply.started": "2021-08-17T07:03:35.834838Z"
    },
    "papermill": {
     "duration": 0.211722,
     "end_time": "2021-08-17T07:04:55.413682",
     "exception": false,
     "start_time": "2021-08-17T07:04:55.201960",
     "status": "completed"
    },
    "tags": []
   },
   "outputs": [
    {
     "data": {
      "image/png": "[encoded data removed]",
      "text/plain": [
       "<Figure size 432x288 with 1 Axes>"
      ]
     },
     "metadata": {
      "needs_background": "light"
     },
     "output_type": "display_data"
    }
   ],
   "source": [
    "plt.plot(range(1,11),wcss)\n",
    "plt.title(\"Elbow method\")\n",
    "plt.xlabel(\"No. of clusters\")\n",
    "plt.ylabel(\"WCSS\")\n",
    "plt.grid(True)\n",
    "plt.show()"
   ]
  },
  {
   "cell_type": "code",
   "execution_count": 13,
   "id": "df851398",
   "metadata": {
    "execution": {
     "iopub.execute_input": "2021-08-17T07:04:55.461584Z",
     "iopub.status.busy": "2021-08-17T07:04:55.460932Z",
     "iopub.status.idle": "2021-08-17T07:04:55.465646Z",
     "shell.execute_reply": "2021-08-17T07:04:55.465082Z",
     "shell.execute_reply.started": "2021-08-17T07:04:19.212459Z"
    },
    "papermill": {
     "duration": 0.031472,
     "end_time": "2021-08-17T07:04:55.465786",
     "exception": false,
     "start_time": "2021-08-17T07:04:55.434314",
     "status": "completed"
    },
    "tags": []
   },
   "outputs": [
    {
     "name": "stdout",
     "output_type": "stream",
     "text": [
      "1 : 680.8243999999996\n",
      "2 : 152.36870647733915\n",
      "3 : 78.94084142614601\n",
      "4 : 57.34540931571815\n",
      "5 : 46.535582051282034\n",
      "6 : 38.93873974358975\n",
      "7 : 34.190687924796634\n",
      "8 : 29.90537429982511\n",
      "9 : 27.927882157034986\n",
      "10 : 25.955497086247092\n"
     ]
    }
   ],
   "source": [
    "for i in range(0,10):\n",
    "    print(\"{} : {}\".format(i+1,wcss[i]))"
   ]
  },
  {
   "cell_type": "markdown",
   "id": "0d43662c",
   "metadata": {
    "papermill": {
     "duration": 0.020993,
     "end_time": "2021-08-17T07:04:55.507943",
     "exception": false,
     "start_time": "2021-08-17T07:04:55.486950",
     "status": "completed"
    },
    "tags": []
   },
   "source": [
    "The optimum clusters is where the elbow occurs. This is when the within cluster sum of squares (WCSS) doesn't decrease significantly with every iteration. From the graph we can see the value is 3"
   ]
  },
  {
   "cell_type": "markdown",
   "id": "860fca09",
   "metadata": {
    "papermill": {
     "duration": 0.020578,
     "end_time": "2021-08-17T07:04:55.549836",
     "exception": false,
     "start_time": "2021-08-17T07:04:55.529258",
     "status": "completed"
    },
    "tags": []
   },
   "source": [
    "#### Model Training"
   ]
  },
  {
   "cell_type": "code",
   "execution_count": 14,
   "id": "769c92e8",
   "metadata": {
    "execution": {
     "iopub.execute_input": "2021-08-17T07:04:55.595892Z",
     "iopub.status.busy": "2021-08-17T07:04:55.595198Z",
     "iopub.status.idle": "2021-08-17T07:04:55.632971Z",
     "shell.execute_reply": "2021-08-17T07:04:55.633501Z",
     "shell.execute_reply.started": "2021-08-17T07:03:36.019404Z"
    },
    "papermill": {
     "duration": 0.061901,
     "end_time": "2021-08-17T07:04:55.633698",
     "exception": false,
     "start_time": "2021-08-17T07:04:55.571797",
     "status": "completed"
    },
    "tags": []
   },
   "outputs": [],
   "source": [
    "kmeans= KMeans(n_clusters=3,init='k-means++',n_init=10,max_iter=300,random_state=0)\n",
    "y= kmeans.fit_predict(x)"
   ]
  },
  {
   "cell_type": "markdown",
   "id": "c36b8221",
   "metadata": {
    "papermill": {
     "duration": 0.020628,
     "end_time": "2021-08-17T07:04:55.675769",
     "exception": false,
     "start_time": "2021-08-17T07:04:55.655141",
     "status": "completed"
    },
    "tags": []
   },
   "source": [
    "#### Visualizing the clusters"
   ]
  },
  {
   "cell_type": "code",
   "execution_count": 15,
   "id": "fcd298d9",
   "metadata": {
    "execution": {
     "iopub.execute_input": "2021-08-17T07:04:55.721158Z",
     "iopub.status.busy": "2021-08-17T07:04:55.720457Z",
     "iopub.status.idle": "2021-08-17T07:04:56.005100Z",
     "shell.execute_reply": "2021-08-17T07:04:56.004520Z",
     "shell.execute_reply.started": "2021-08-17T07:03:36.056133Z"
    },
    "papermill": {
     "duration": 0.308485,
     "end_time": "2021-08-17T07:04:56.005255",
     "exception": false,
     "start_time": "2021-08-17T07:04:55.696770",
     "status": "completed"
    },
    "tags": []
   },
   "outputs": [
    {
     "data": {
      "image/png": "[encoded data removed]",
      "text/plain": [
       "<Figure size 432x288 with 1 Axes>"
      ]
     },
     "metadata": {
      "needs_background": "light"
     },
     "output_type": "display_data"
    }
   ],
   "source": [
    "# Visualizing Clusters\n",
    "plt.scatter(x[y==0, 0],x[y==0,1],s=60,c='b',label = 'Iris-setosa')\n",
    "plt.scatter(x[y==1,0],x[y==1,1],s=60,c='r',label= 'Iris-versicolour')\n",
    "plt.scatter(x[y==2,0],x[y==2,1],s=60,c='g',label= 'Iris-virginica')\n",
    "\n",
    "# Visualizing Centroids\n",
    "plt.scatter(kmeans.cluster_centers_[:,0], kmeans.cluster_centers_[:,1],s=100,c='yellow',label='Centroid')\n",
    "plt.title(\"Cluster with centroids\")\n",
    "plt.legend()\n",
    "plt.show()"
   ]
  },
  {
   "cell_type": "markdown",
   "id": "9ab116f4",
   "metadata": {
    "papermill": {
     "duration": 0.022292,
     "end_time": "2021-08-17T07:04:56.051112",
     "exception": false,
     "start_time": "2021-08-17T07:04:56.028820",
     "status": "completed"
    },
    "tags": []
   },
   "source": [
    "##### Conclusion"
   ]
  },
  {
   "cell_type": "markdown",
   "id": "4355b0c1",
   "metadata": {
    "papermill": {
     "duration": 0.023265,
     "end_time": "2021-08-17T07:04:56.097704",
     "exception": false,
     "start_time": "2021-08-17T07:04:56.074439",
     "status": "completed"
    },
    "tags": []
   },
   "source": [
    "Successfully classified 3 types of species group in the dataset using K Means Clustering "
   ]
  }
 ],
 "metadata": {
  "kernelspec": {
   "display_name": "Python 3",
   "language": "python",
   "name": "python3"
  },
  "language_info": {
   "codemirror_mode": {
    "name": "ipython",
    "version": 3
   },
   "file_extension": ".py",
   "mimetype": "text/x-python",
   "name": "python",
   "nbconvert_exporter": "python",
   "pygments_lexer": "ipython3",
   "version": "3.7.10"
  },
  "papermill": {
   "default_parameters": {},
   "duration": 13.867858,
   "end_time": "2021-08-17T07:04:57.452441",
   "environment_variables": {},
   "exception": null,
   "input_path": "__notebook__.ipynb",
   "output_path": "__notebook__.ipynb",
   "parameters": {},
   "start_time": "2021-08-17T07:04:43.584583",
   "version": "2.3.3"
  }
 },
 "nbformat": 4,
 "nbformat_minor": 5
}
